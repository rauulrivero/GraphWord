{
 "cells": [
  {
   "cell_type": "code",
   "execution_count": 30,
   "metadata": {},
   "outputs": [],
   "source": [
    "import boto3\n",
    "import json"
   ]
  },
  {
   "cell_type": "code",
   "execution_count": 31,
   "metadata": {},
   "outputs": [],
   "source": [
    "s3 = boto3.client(\"s3\", region_name=\"us-east-1\")"
   ]
  },
  {
   "cell_type": "code",
   "execution_count": 32,
   "metadata": {},
   "outputs": [],
   "source": [
    "def list_files(s3, bucket_name):\n",
    "        \"\"\"\n",
    "        List all files in the S3 bucket.\n",
    "\n",
    "        :return: List of file keys in the bucket.\n",
    "        \"\"\"\n",
    "        try:\n",
    "            response = s3.list_objects_v2(Bucket=bucket_name)\n",
    "            if 'Contents' in response:\n",
    "                return [file['Key'] for file in response['Contents']]\n",
    "            else:\n",
    "                return []\n",
    "        except Exception as e:\n",
    "            print(f\"An error occurred: {e}\")\n",
    "            return None"
   ]
  },
  {
   "cell_type": "code",
   "execution_count": 33,
   "metadata": {},
   "outputs": [],
   "source": [
    "def download_file(s3, bucket_name, object_key, file_path):\n",
    "    \"\"\"\n",
    "    Download a text file from an S3 bucket using get_object.\n",
    "\n",
    "    :param s3: The boto3 S3 client.\n",
    "    :param bucket_name: The name of the S3 bucket.\n",
    "    :param object_key: The key of the file to download.\n",
    "    :param file_path: The local path to save the downloaded file.\n",
    "    :return: The content of the text file if downloaded successfully, None otherwise.\n",
    "    \"\"\"\n",
    "    try:\n",
    "        response = s3.get_object(Bucket=bucket_name, Key=object_key)\n",
    "\n",
    "        # Read and decode the content of the file\n",
    "        content = response['Body'].read()\n",
    "\n",
    "        # Optionally save the text content to a file\n",
    "        with open(file_path, 'w') as file:\n",
    "            file.write(content)\n",
    "\n",
    "        print(f\"File '{object_key}' downloaded and saved successfully to '{file_path}'.\")\n",
    "        return content\n",
    "    except s3.exceptions.NoSuchBucket:\n",
    "        print(f\"Bucket '{bucket_name}' does not exist.\")\n",
    "    except s3.exceptions.NoSuchKey:\n",
    "        print(f\"File '{object_key}' does not exist in bucket '{bucket_name}'.\")\n",
    "    except Exception as e:\n",
    "        print(f\"Error downloading file: {str(e)}\")\n",
    "    return None\n"
   ]
  },
  {
   "cell_type": "code",
   "execution_count": 34,
   "metadata": {},
   "outputs": [],
   "source": [
    "libros = list_files(s3, \"datalake-books\")"
   ]
  },
  {
   "cell_type": "code",
   "execution_count": 35,
   "metadata": {},
   "outputs": [],
   "source": [
    "def download_all_files(s3, bucket_name, object_keys, destination_folder):\n",
    "    \"\"\"\n",
    "    Download multiple text files from an S3 bucket recursively.\n",
    "\n",
    "    :param s3: The boto3 S3 client.\n",
    "    :param bucket_name: The name of the S3 bucket.\n",
    "    :param object_keys: A list of keys of the files to download.\n",
    "    :param destination_folder: The local folder to save the downloaded files.\n",
    "    :return: A dictionary with keys as file names and values as the text content.\n",
    "    \"\"\"\n",
    "    downloaded_files = {}\n",
    "    for object_key in object_keys:\n",
    "        try:\n",
    "            file_name = object_key.split('/')[-1]  # Extract file name from key\n",
    "            local_path = f\"{destination_folder}/{file_name}\"\n",
    "            text_content = download_file(s3, bucket_name, object_key, local_path)\n",
    "\n",
    "            if text_content is not None:\n",
    "                downloaded_files[object_key] = text_content\n",
    "        except Exception as e:\n",
    "            print(f\"Error processing file '{object_key}': {str(e)}\")\n",
    "    return downloaded_files"
   ]
  },
  {
   "cell_type": "code",
   "execution_count": 36,
   "metadata": {},
   "outputs": [
    {
     "name": "stdout",
     "output_type": "stream",
     "text": [
      "Error downloading file: write() argument must be str, not bytes\n",
      "Error downloading file: write() argument must be str, not bytes\n",
      "Error downloading file: write() argument must be str, not bytes\n",
      "Error downloading file: write() argument must be str, not bytes\n",
      "Error downloading file: write() argument must be str, not bytes\n",
      "Error downloading file: write() argument must be str, not bytes\n",
      "Error downloading file: write() argument must be str, not bytes\n",
      "Error downloading file: write() argument must be str, not bytes\n",
      "Error downloading file: write() argument must be str, not bytes\n",
      "Error downloading file: write() argument must be str, not bytes\n"
     ]
    },
    {
     "data": {
      "text/plain": [
       "{}"
      ]
     },
     "execution_count": 36,
     "metadata": {},
     "output_type": "execute_result"
    }
   ],
   "source": [
    "download_all_files(s3, \"datalake-books\", libros, \"datalake-books\")"
   ]
  },
  {
   "cell_type": "code",
   "execution_count": 38,
   "metadata": {},
   "outputs": [],
   "source": [
    "import os\n",
    "\n",
    "def download_txt_files(s3_client, bucket_name, local_folder):\n",
    "        \"\"\"\n",
    "        Downloads all .txt files from a specified S3 bucket and prefix to a local folder.\n",
    "        \"\"\"\n",
    "        objects = s3_client.list_objects_v2(Bucket=bucket_name)\n",
    "\n",
    "        if 'Contents' not in objects:\n",
    "            print(\"No files found in the bucket with the specified prefix.\")\n",
    "            return []\n",
    "        \n",
    "        os.makedirs(os.path.dirname(local_folder), exist_ok=True)\n",
    "\n",
    "        downloaded_files = []\n",
    "        for obj in objects['Contents']:\n",
    "            file_key = obj['Key']\n",
    "            if file_key.endswith('.txt'):\n",
    "                local_path = os.path.join(local_folder, os.path.basename(file_key))\n",
    "                s3_client.download_file(bucket_name, file_key, local_path)\n",
    "                downloaded_files.append(local_path)\n",
    "\n",
    "        return downloaded_files"
   ]
  },
  {
   "cell_type": "code",
   "execution_count": 40,
   "metadata": {},
   "outputs": [
    {
     "data": {
      "text/plain": [
       "['datalake-books\\\\2500.txt',\n",
       " 'datalake-books\\\\2501.txt',\n",
       " 'datalake-books\\\\2502.txt',\n",
       " 'datalake-books\\\\2503.txt',\n",
       " 'datalake-books\\\\2504.txt',\n",
       " 'datalake-books\\\\2505.txt',\n",
       " 'datalake-books\\\\2506.txt',\n",
       " 'datalake-books\\\\2507.txt',\n",
       " 'datalake-books\\\\2508.txt',\n",
       " 'datalake-books\\\\2509.txt']"
      ]
     },
     "execution_count": 40,
     "metadata": {},
     "output_type": "execute_result"
    }
   ],
   "source": [
    "download_txt_files(s3, \"datalake-books\", \"datalake-books\")"
   ]
  },
  {
   "cell_type": "code",
   "execution_count": 42,
   "metadata": {},
   "outputs": [],
   "source": [
    "def upload_json_file(s3_client, bucket_name, json_data, s3_key):\n",
    "        \"\"\"\n",
    "        Uploads a JSON object to a specified S3 bucket.\n",
    "\n",
    "        :param bucket_name: Name of the S3 bucket.\n",
    "        :param json_data: JSON object or dictionary to upload.\n",
    "        :param s3_key: S3 key (path) where the file will be stored.\n",
    "        \"\"\"\n",
    "        try:\n",
    "            json_string = json.dumps(json_data)\n",
    "            s3_client.put_object(Body=json_string, Bucket=bucket_name, Key=s3_key, ContentType='application/json')\n",
    "            print(f\"JSON file uploaded successfully to {bucket_name}/{s3_key}\")\n",
    "        except Exception as e:\n",
    "            print(f\"An error occurred while uploading the JSON file: {e}\")"
   ]
  },
  {
   "cell_type": "code",
   "execution_count": null,
   "metadata": {},
   "outputs": [
    {
     "name": "stdout",
     "output_type": "stream",
     "text": [
      "JSON file uploaded successfully to wordgraph-tcsd/graph.json\n"
     ]
    }
   ],
   "source": [
    "upload_json_file(s3, \"wordgraph-tcsd\", /api/graph.json, \"graph.json\")"
   ]
  },
  {
   "cell_type": "code",
   "execution_count": null,
   "metadata": {},
   "outputs": [],
   "source": []
  }
 ],
 "metadata": {
  "kernelspec": {
   "display_name": ".venv",
   "language": "python",
   "name": "python3"
  },
  "language_info": {
   "codemirror_mode": {
    "name": "ipython",
    "version": 3
   },
   "file_extension": ".py",
   "mimetype": "text/x-python",
   "name": "python",
   "nbconvert_exporter": "python",
   "pygments_lexer": "ipython3",
   "version": "3.10.11"
  }
 },
 "nbformat": 4,
 "nbformat_minor": 2
}
